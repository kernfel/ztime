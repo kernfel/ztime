{
 "cells": [
  {
   "cell_type": "code",
   "execution_count": 1,
   "metadata": {},
   "outputs": [],
   "source": [
    "from brian2.only import *\n",
    "import numpy as np\n",
    "import matplotlib.pyplot as plt"
   ]
  },
  {
   "cell_type": "code",
   "execution_count": 2,
   "metadata": {},
   "outputs": [],
   "source": [
    "# Structure\n",
    "\n",
    "# How many levels?\n",
    "N_levels = 80\n",
    "\n",
    "# How many neurons in each level (input, output, inhibitory)?\n",
    "N_Ein = 10\n",
    "N_Eout = 10\n",
    "N_I = 5\n",
    "\n",
    "# How many \"sensory\" neurons (input, output side)?\n",
    "N_Sin = 5\n",
    "N_Sout = 20\n",
    "\n",
    "# Connection probability\n",
    "epsilon = 0.5\n",
    "\n",
    "# Conduction delays\n",
    "delay_within = 2*msecond\n",
    "delay_across = 10*msecond"
   ]
  },
  {
   "cell_type": "code",
   "execution_count": 3,
   "metadata": {},
   "outputs": [],
   "source": [
    "# Neuron model\n",
    "\n",
    "gl = 10.0*nsiemens   # Leak conductance\n",
    "el = -60*mV          # Resting potential\n",
    "E_gaba = -80*mV      # Inhibitory reversal potential (excitatory is 0 mV, implicit.)\n",
    "vt = -50.*mV         # Spiking threshold\n",
    "memc = 200.0*pfarad  # Membrane capacitance\n",
    "\n",
    "tau_ampa = 5.0*ms   # Glutamatergic synaptic time constant\n",
    "tau_gaba = 10.0*ms  # GABAergic synaptic time constant\n",
    "\n",
    "gbar_ampa = 5*nS\n",
    "gbar_gaba = 25*nS\n",
    "\n",
    "eqs_neurons='''\n",
    "dv/dt=(-gl*(v-el)-(g_ampa*v+g_gaba*(v-E_gaba)))/memc : volt (unless refractory)\n",
    "dg_ampa/dt = -g_ampa/tau_ampa : siemens\n",
    "dg_gaba/dt = -g_gaba/tau_gaba : siemens\n",
    "'''"
   ]
  },
  {
   "cell_type": "code",
   "execution_count": 4,
   "metadata": {},
   "outputs": [],
   "source": [
    "# Plasticity model\n",
    "\n",
    "tau_pre = tau_post = 20*ms\n",
    "wmax = 1\n",
    "dApre = .01\n",
    "dApost = -dApre * tau_pre / tau_post * 1.05\n",
    "dApost *= wmax\n",
    "dApre *= wmax\n",
    "\n",
    "stdp_eqn = '''\n",
    "    w : 1\n",
    "    dApre/dt = -Apre / tau_pre : 1 (event-driven)\n",
    "    dApost/dt = -Apost / tau_post : 1 (event-driven)'''\n",
    "stdp_onpre = '''\n",
    "    g_ampa += w*gbar_ampa\n",
    "    Apre += dApre\n",
    "    w = clip(w + Apost, 0, wmax)'''\n",
    "stdp_onpost = '''\n",
    "    Apost += dApost\n",
    "    w = clip(w + Apre, 0, wmax)'''"
   ]
  },
  {
   "cell_type": "code",
   "execution_count": 5,
   "metadata": {},
   "outputs": [],
   "source": [
    "rng = np.random.default_rng(0)"
   ]
  },
  {
   "cell_type": "code",
   "execution_count": 6,
   "metadata": {},
   "outputs": [],
   "source": [
    "N_neurons_total = N_levels * (N_Ein+N_Eout+N_I) + N_Sin + N_Sout\n",
    "neurons = NeuronGroup(N_neurons_total, model=eqs_neurons, threshold='v > vt',\n",
    "                      reset='v=el', refractory=5*ms, method='euler')\n",
    "\n",
    "def get_subpopulations(population, sizes):\n",
    "    n = 0\n",
    "    subpopulations = []\n",
    "    for s in sizes:\n",
    "        subpopulations.append(population[n:n+s])\n",
    "        n += s\n",
    "    return subpopulations\n",
    "        \n",
    "Sin, Sout, Ein, I, Eout = get_subpopulations(neurons, (N_Sin, N_Sout, N_levels*N_Ein, N_levels*N_I, N_levels*N_Eout))"
   ]
  },
  {
   "cell_type": "code",
   "execution_count": 7,
   "metadata": {},
   "outputs": [],
   "source": [
    "def get_ij(pre, post, p):\n",
    "    ii, jj = rng.choice(2, (pre.N, post.N), p=[1-p, p]).nonzero()\n",
    "    return pre.indices[ii], post.indices[jj]\n",
    "\n",
    "def append2(list1, list2, morefor1, morefor2):\n",
    "    list1.append(morefor1)\n",
    "    list2.append(morefor2)"
   ]
  },
  {
   "cell_type": "code",
   "execution_count": 8,
   "metadata": {},
   "outputs": [],
   "source": [
    "# Collect all similar synapses into a single object\n",
    "# The reasoning is the following:\n",
    "# Each Synapse object has an overhead; we want to reduce this within reason for fast simulation;\n",
    "# conversely, heterogeneous delays also have an overhead;\n",
    "# and of course, we may want to only have some synapses plastic etc.\n",
    "# Therefore, we separate into a small number of groups:\n",
    "# feedforward, feedback, e-to-e, e-to-i, i-to-i"
   ]
  },
  {
   "cell_type": "code",
   "execution_count": 9,
   "metadata": {},
   "outputs": [],
   "source": [
    "# Object 1: Feedforward (excitatory, plastic, delay=delay_across)\n",
    "ff_pre, ff_post = [], []\n",
    "\n",
    "# Sensory forward\n",
    "append2(ff_pre, ff_post, *get_ij(Sin, Ein[:N_Ein], epsilon))\n",
    "\n",
    "# Hierarchical forward\n",
    "Ein_bylevel = get_subpopulations(Ein, [N_Ein]*N_levels)\n",
    "for pre, post in zip(Ein_bylevel, Ein_bylevel[1:]):\n",
    "    append2(ff_pre, ff_post, *get_ij(pre, post, epsilon))\n",
    "\n",
    "syn_ff = Synapses(neurons, neurons, stdp_eqn, on_pre=stdp_onpre, on_post=stdp_onpost, delay=delay_across)\n",
    "syn_ff.connect(i=np.concatenate(ff_pre), j=np.concatenate(ff_post))"
   ]
  },
  {
   "cell_type": "code",
   "execution_count": 10,
   "metadata": {},
   "outputs": [],
   "source": [
    "# Object 2: Feedback (excitatory, plastic, variable delay)\n",
    "fb_pre, fb_post = [], []\n",
    "Eout_bylevel = get_subpopulations(Eout, [N_Eout]*N_levels)\n",
    "for pre in Eout_bylevel:\n",
    "    append2(fb_pre, fb_post, *get_ij(pre, Sout, epsilon))\n",
    "syn_fb = Synapses(neurons, neurons, stdp_eqn, on_pre=stdp_onpre, on_post=stdp_onpost)\n",
    "syn_fb.connect(i=np.concatenate(fb_pre), j=np.concatenate(fb_post))\n",
    "syn_fb.delay = np.concatenate([[(i+1)*delay_across/second] * len(pre) for i, pre in enumerate(fb_pre)])*second"
   ]
  },
  {
   "cell_type": "code",
   "execution_count": 11,
   "metadata": {},
   "outputs": [],
   "source": [
    "# Object 3: Within level E to E (excitatory, plastic, delay=delay_within)\n",
    "ee_pre, ee_post = [], []\n",
    "for pre, post in zip(Ein_bylevel, Eout_bylevel):\n",
    "    append2(ee_pre, ee_post, *get_ij(pre, pre, epsilon))  # Input side recurrency\n",
    "    append2(ee_pre, ee_post, *get_ij(post, post, epsilon))  # Output side recurrency\n",
    "    append2(ee_pre, ee_post, *get_ij(pre, post, epsilon))  # Within-level forward\n",
    "syn_ee = Synapses(neurons, neurons, stdp_eqn, on_pre=stdp_onpre, on_post=stdp_onpost, delay=delay_within)\n",
    "syn_ee.connect(i=np.concatenate(ee_pre), j=np.concatenate(ee_post))"
   ]
  },
  {
   "cell_type": "code",
   "execution_count": 12,
   "metadata": {},
   "outputs": [],
   "source": [
    "# Object 4: E to I (excitatory, static, delay=delay_within)\n",
    "ei_pre, ei_post = [], []\n",
    "I_bylevel = get_subpopulations(I, [N_I]*N_levels)\n",
    "for ein, eout, i in zip(Ein_bylevel, Eout_bylevel, I_bylevel):\n",
    "    append2(ei_pre, ei_post, *get_ij(ein, i, epsilon))\n",
    "    append2(ei_pre, ei_post, *get_ij(eout, i, epsilon))\n",
    "syn_ei = Synapses(neurons, neurons, on_pre='g_ampa += gbar_ampa', delay=delay_within)\n",
    "syn_ei.connect(i=np.concatenate(ei_pre), j=np.concatenate(ei_post))"
   ]
  },
  {
   "cell_type": "code",
   "execution_count": 13,
   "metadata": {},
   "outputs": [],
   "source": [
    "# Object 5: I to E (inhibitory, static, delay=delay_within)\n",
    "ie_pre, ie_post = [], []\n",
    "for ein, eout, i in zip(Ein_bylevel, Eout_bylevel, I_bylevel):\n",
    "    append2(ie_pre, ie_post, *get_ij(i, ein, epsilon))\n",
    "    append2(ie_pre, ie_post, *get_ij(i, eout, epsilon))\n",
    "syn_ie = Synapses(neurons, neurons, on_pre='g_gaba += gbar_gaba', delay=delay_within)\n",
    "syn_ie.connect(i=np.concatenate(ie_pre), j=np.concatenate(ie_post))"
   ]
  },
  {
   "cell_type": "code",
   "execution_count": 14,
   "metadata": {},
   "outputs": [],
   "source": [
    "sm = SpikeMonitor(neurons)\n",
    "run(1*msecond)"
   ]
  }
 ],
 "metadata": {
  "kernelspec": {
   "display_name": ".env",
   "language": "python",
   "name": "python3"
  },
  "language_info": {
   "codemirror_mode": {
    "name": "ipython",
    "version": 3
   },
   "file_extension": ".py",
   "mimetype": "text/x-python",
   "name": "python",
   "nbconvert_exporter": "python",
   "pygments_lexer": "ipython3",
   "version": "3.10.6"
  },
  "orig_nbformat": 4
 },
 "nbformat": 4,
 "nbformat_minor": 2
}
